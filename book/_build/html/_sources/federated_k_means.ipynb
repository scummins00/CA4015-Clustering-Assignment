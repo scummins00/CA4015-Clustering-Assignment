{
 "cells": [
  {
   "cell_type": "markdown",
   "id": "fc7336cd",
   "metadata": {},
   "source": [
    "# Introduction to Federated Learning\n",
    "Federated Learning is a deep learning approach which involves training a model over disconnected or siloed data centres such as mobile phones. Rather than both the data and model being centralised on one system, data is preserved in its local environment. A machine learning model is sent to the system hosting the data, rather than the inverse. This approach makes a step forward in protecting the privacy of user-generated data. In FL, the user data is not transmitted across a network. However, there are challenges associated with FL, including: *the expensive nature*, *system heterogeneity*, *statistical heterogeneity*, and *privacy* {cite:p}Li2020 . "
   ]
  },
  {
   "cell_type": "code",
   "execution_count": null,
   "id": "edc9121f",
   "metadata": {},
   "outputs": [],
   "source": []
  }
 ],
 "metadata": {
  "kernelspec": {
   "display_name": "Python 3",
   "language": "python",
   "name": "python3"
  },
  "language_info": {
   "codemirror_mode": {
    "name": "ipython",
    "version": 3
   },
   "file_extension": ".py",
   "mimetype": "text/x-python",
   "name": "python",
   "nbconvert_exporter": "python",
   "pygments_lexer": "ipython3",
   "version": "3.8.3"
  }
 },
 "nbformat": 4,
 "nbformat_minor": 5
}
