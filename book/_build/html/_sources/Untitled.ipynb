{
 "cells": [
  {
   "cell_type": "markdown",
   "id": "5083e040",
   "metadata": {},
   "source": [
    "## Lets read in some basic packages:"
   ]
  },
  {
   "cell_type": "code",
   "execution_count": 34,
   "id": "6b4de9f2",
   "metadata": {},
   "outputs": [],
   "source": [
    "import pandas as pd\n",
    "import numpy as np\n",
    "from sklearn.cluster import KMeans"
   ]
  },
  {
   "cell_type": "markdown",
   "id": "b3a11d79",
   "metadata": {},
   "source": [
    "# Lets begin by reading in some data"
   ]
  },
  {
   "cell_type": "code",
   "execution_count": 24,
   "id": "9b3bc816",
   "metadata": {},
   "outputs": [],
   "source": [
    "index_95 = pd.read_csv(\"../data/index_95.csv\")\n",
    "choice_95 = pd.read_csv(\"../data/choice_95.csv\")\n",
    "win_95 = pd.read_csv(\"../data/wi_95.csv\")\n",
    "loss_95 = pd.read_csv(\"../data/lo_95.csv\")"
   ]
  },
  {
   "cell_type": "markdown",
   "id": "489ba674",
   "metadata": {},
   "source": [
    "First thing I want to do is cluster by **Net Win $\\times$ Net Loss** for each participant\n",
    "\n",
    "Let's create a new DF with two columns, net_win & net_loss with each row representing a participant. We need:\n",
    "\n",
    "1. Array representing net win / loss for each participant\n",
    "2. Suitable dataframe"
   ]
  },
  {
   "cell_type": "code",
   "execution_count": 49,
   "id": "ccf5b7ad",
   "metadata": {},
   "outputs": [
    {
     "name": "stdout",
     "output_type": "stream",
     "text": [
      "[1150 -675 -750 -525  100 1250 -150  150 -575 1475 -350 -325  450 -425\n",
      "  450]\n"
     ]
    }
   ],
   "source": [
    "net_win = np.array(win_95.sum(axis=1))\n",
    "net_loss = np.array(loss_95.sum(axis=1))\n",
    "print(net_win + net_loss)"
   ]
  },
  {
   "cell_type": "code",
   "execution_count": null,
   "id": "ef5bc00e",
   "metadata": {},
   "outputs": [],
   "source": []
  }
 ],
 "metadata": {
  "kernelspec": {
   "display_name": "Python 3",
   "language": "python",
   "name": "python3"
  },
  "language_info": {
   "codemirror_mode": {
    "name": "ipython",
    "version": 3
   },
   "file_extension": ".py",
   "mimetype": "text/x-python",
   "name": "python",
   "nbconvert_exporter": "python",
   "pygments_lexer": "ipython3",
   "version": "3.8.3"
  }
 },
 "nbformat": 4,
 "nbformat_minor": 5
}
