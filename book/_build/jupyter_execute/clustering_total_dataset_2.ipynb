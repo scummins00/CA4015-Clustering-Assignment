{
 "cells": [
  {
   "cell_type": "markdown",
   "id": "44ba3186",
   "metadata": {},
   "source": [
    "# Clustering of Total Dataset 2 (Income Every 10th Turn)\n",
    "In the following Notebook, we will be examining and contrasting participants based on their total net income or net loss over the course the test measured at 10% completion intervals. That is to say that, for a participant with 100 turns, we will examine their *10th*, *20th*, *30th*, *40th*, *50th*, *60th*, *70th*, *80th*, *90th*, and *100th* round. Clustering participants based on these features will result in a **10-Dimensional space**. We will then perform *Principal Component Analysis* to understand which of these features are most important. Depending on the results of PCA, we will either perform dimensionality reduction or choose to continue with all 10 features.  "
   ]
  },
  {
   "cell_type": "code",
   "execution_count": null,
   "id": "095a664d",
   "metadata": {},
   "outputs": [],
   "source": []
  }
 ],
 "metadata": {
  "kernelspec": {
   "display_name": "Python 3",
   "language": "python",
   "name": "python3"
  },
  "language_info": {
   "codemirror_mode": {
    "name": "ipython",
    "version": 3
   },
   "file_extension": ".py",
   "mimetype": "text/x-python",
   "name": "python",
   "nbconvert_exporter": "python",
   "pygments_lexer": "ipython3",
   "version": "3.8.6"
  }
 },
 "nbformat": 4,
 "nbformat_minor": 5
}