{
 "cells": [
  {
   "cell_type": "markdown",
   "id": "0c3274b8",
   "metadata": {},
   "source": [
    "# Clustering of Total Dataset 2 (10% Intervals)\n",
    "In the following Notebook, we will be examining and contrasting participants based on their total net income or net loss over the course of the test measured at 10% intervals. That is to say that, for a participant with 100 turns, we will examine their *10th*, *20th*, *30th*, .., and *100th* round. Clustering participants based on these features will result in a **10-Dimensional space**. We will then perform *Principal Component Analysis* to understand which of these features are most important. Depending on the results of PCA, we will either perform dimensionality reduction or choose to continue with all 10 features.  "
   ]
  },
  {
   "cell_type": "markdown",
   "id": "dd87c7d0",
   "metadata": {},
   "source": [
    "## Importing Libraries"
   ]
  },
  {
   "cell_type": "code",
   "execution_count": 1,
   "id": "04b6886f",
   "metadata": {},
   "outputs": [],
   "source": [
    "import pandas as pd\n",
    "import numpy as np\n",
    "import matplotlib.pyplot as plt\n",
    "from sklearn.cluster import KMeans\n",
    "from sklearn.decomposition import PCA\n",
    "from sklearn.metrics import silhouette_score\n",
    "from sklearn import preprocessing"
   ]
  },
  {
   "cell_type": "markdown",
   "id": "c6908e49",
   "metadata": {},
   "source": [
    "## Importing Data"
   ]
  },
  {
   "cell_type": "code",
   "execution_count": 2,
   "id": "e41bd7c5",
   "metadata": {},
   "outputs": [],
   "source": [
    "full_sets = []\n",
    "\n",
    "full_wins_95=pd.read_csv(\"../data/cleaned/full_Wins_95.csv\").iloc[:,:-2]\n",
    "full_sets.append(full_wins_95)\n",
    "full_wins_100=pd.read_csv(\"../data/cleaned/full_Wins_100.csv\").iloc[:,:-2]\n",
    "full_sets.append(full_wins_100)\n",
    "full_wins_150=pd.read_csv(\"../data/cleaned/full_Wins_150.csv\").iloc[:,:-2]\n",
    "full_sets.append(full_wins_150)\n",
    "\n",
    "full_losses_95=pd.read_csv(\"../data/cleaned/full_Losses_95.csv\").iloc[:,:-2]\n",
    "full_sets.append(full_losses_95)\n",
    "full_losses_100=pd.read_csv(\"../data/cleaned/full_Losses_100.csv\").iloc[:,:-2]\n",
    "full_sets.append(full_losses_100)\n",
    "full_losses_150=pd.read_csv(\"../data/cleaned/full_Losses_150.csv\").iloc[:,:-2]\n",
    "full_sets.append(full_losses_150)"
   ]
  },
  {
   "cell_type": "markdown",
   "id": "7a3500df",
   "metadata": {},
   "source": [
    "## Initial Data Manipulation\n",
    "From the datasets we previously created, we would like to calculate a participant's net gain (or loss) at each measured interval for each subject. The calculation is simply  the difference between **`full_win` & `full_loss`**."
   ]
  },
  {
   "cell_type": "code",
   "execution_count": 3,
   "id": "dff9a2e9",
   "metadata": {},
   "outputs": [],
   "source": [
    "#Our Net Datasets\n",
    "net_sets = []\n",
    "\n",
    "net_rolling_95=full_wins_95 + full_losses_95.values\n",
    "net_sets.append(net_rolling_95)\n",
    "\n",
    "net_rolling_100=full_wins_100 + full_losses_100.values\n",
    "net_sets.append(net_rolling_100)\n",
    "\n",
    "net_rolling_150=full_wins_150 + full_losses_150.values\n",
    "net_sets.append(net_rolling_150)"
   ]
  },
  {
   "cell_type": "code",
   "execution_count": 4,
   "id": "6375ead4",
   "metadata": {},
   "outputs": [],
   "source": [
    "'''\n",
    "for now we do not need this block\n",
    "'''\n",
    "#Normalising table columns\n",
    "for s in net_sets:\n",
    "    new_columns=[\"10%\", \"20%\", \"30%\", \"40%\", \"50%\",\"60%\", \"70%\", \"80%\", \"90%\", \"100%\"]\n",
    "    s.set_axis(new_columns, axis=1, inplace=True)"
   ]
  },
  {
   "cell_type": "code",
   "execution_count": 5,
   "id": "2d490778",
   "metadata": {},
   "outputs": [],
   "source": [
    "#Let us now combine our datasets\n",
    "net_set = pd.concat(net_sets, axis=0)"
   ]
  },
  {
   "cell_type": "markdown",
   "id": "53c2a803",
   "metadata": {},
   "source": [
    "# K-Means Clustering\n",
    "As is stands, our datasets consist of 10 features. We know that the K-Means algorithm suffers from the 'curse of dimensionality'. This means that as the dimensions increase, the amount of available space increases exponentially. Eventually, we reach a point where our space is so sparsely populated that K-Means resorts to a 1:1 relationship between number of clusters and number of datapoints.\n",
    "\n",
    "To avoid this paradigm, we will perform **Principal Component Analysis** (PCA). PCA is used for dimensionality reduction in datasets with many features. On their own, these datasets are difficult to interpret and cannot be plotted on a 2D or 3D plane. PCA aims to increase the interpretability of these datasets. It creates new variables (__*principal components*__) that maximize variance. It then solves these variables for their eigenvalues and eigenvectors {cite}`Jolliffe2016`."
   ]
  },
  {
   "cell_type": "markdown",
   "id": "ce2d2bfc",
   "metadata": {},
   "source": [
    "## Principal Component Analysis\n",
    "In order for PCA to work, the data must be standardized. That is to say, all of our features must have a **mean of 0** and a **Standard Deviation of 1**. We will use the `preprocessing` package from `sklearnn` in order to achieve this. Following on from this, we will create as many principal components as there are feature vectors. We will then rank the importance of these principal components by calculating their **eigenvalues**. The comparison of the eigenvalues will allow us to visualise the importance of each. That is, how much variance in the true dataset they are able to account for. We will see this on a **Scree Plot**."
   ]
  },
  {
   "cell_type": "markdown",
   "id": "99489521",
   "metadata": {},
   "source": [
    "### Standardization"
   ]
  },
  {
   "cell_type": "code",
   "execution_count": 6,
   "id": "e896101f",
   "metadata": {},
   "outputs": [],
   "source": [
    "#Instantiate our scaler\n",
    "min_max_scaler = preprocessing.MinMaxScaler()\n",
    "\n",
    "#Normalize our datasets\n",
    "norm_net_set=pd.DataFrame(min_max_scaler.fit_transform(net_set), columns=net_set.columns)"
   ]
  },
  {
   "cell_type": "markdown",
   "id": "d83cae35",
   "metadata": {},
   "source": [
    "### Finding Principal Components"
   ]
  },
  {
   "cell_type": "code",
   "execution_count": 7,
   "id": "536f038e",
   "metadata": {},
   "outputs": [],
   "source": [
    "#Instantiating our PCA Function\n",
    "pca = PCA(n_components=10, svd_solver = 'auto')\n",
    "\n",
    "#Finding the 10 Principal Components of our Datasets\n",
    "pc_norm_net=pca.fit_transform(norm_net_set)\n",
    "\n",
    "\n",
    "#Creating datasets of the principal components for visualization\n",
    "pca_df_norm_net_set = pd.DataFrame(data = pc_norm_net, columns = ['PC 1', 'PC 2', 'PC 3',\n",
    "                                                       'PC 4', 'PC 5', 'PC 6',\n",
    "                                                      'PC 7', 'PC 8', 'PC 9', 'PC 10'])"
   ]
  },
  {
   "cell_type": "code",
   "execution_count": 8,
   "id": "e9700ca5",
   "metadata": {},
   "outputs": [
    {
     "data": {
      "image/png": "[encoded data removed]",
      "text/plain": [
       "<Figure size 504x504 with 1 Axes>"
      ]
     },
     "metadata": {
      "filenames": {
       "image/png": "D:\\dcu\\4th_year\\CA4015\\CA4015-Clustering-Assignment\\book\\_build\\jupyter_execute\\clustering_total_dataset_2_15_0.png"
      },
      "needs_background": "light"
     },
     "output_type": "display_data"
    }
   ],
   "source": [
    "#Creating the Scree Plot\n",
    "plt.figure(figsize=(7,7))\n",
    "\n",
    "PC_values = np.arange(pca.n_components_) + 1\n",
    "plt.plot(PC_values, pca.explained_variance_ratio_, 'ro-', linewidth=2)\n",
    "plt.title('Scree Plot')\n",
    "plt.xlabel('Principal Component')\n",
    "plt.ylabel('Proportion of Variance Explained')\n",
    "plt.show()"
   ]
  },
  {
   "cell_type": "code",
   "execution_count": 9,
   "id": "25908e57",
   "metadata": {},
   "outputs": [
    {
     "name": "stdout",
     "output_type": "stream",
     "text": [
      "Proportion of Variance Explained :  [0.39471861 0.32002395 0.10276651 0.04771292 0.03652619 0.0323709\n",
      " 0.02174367 0.02018602 0.0140641  0.00988714]\n",
      "Cumulative Prop. Variance Explained:  [0.39471861 0.71474256 0.81750906 0.86522198 0.90174817 0.93411907\n",
      " 0.95586274 0.97604875 0.99011286 1.        ]\n"
     ]
    }
   ],
   "source": [
    "print (\"Proportion of Variance Explained : \", pca.explained_variance_ratio_)  \n",
    "    \n",
    "out_sum = np.cumsum(pca.explained_variance_ratio_)  \n",
    "print (\"Cumulative Prop. Variance Explained: \", out_sum)"
   ]
  },
  {
   "cell_type": "markdown",
   "id": "a49ffe91",
   "metadata": {},
   "source": [
    "### Scree Plot Analysis\n",
    "From the above plot we can see that **71.4%** of the variance in our total dataset is explained by the first and second Principal Components. With this evidence, we can conclude that the first and second Principal Components will suffice for representing the majority (over 70%) of the variance in our data."
   ]
  },
  {
   "cell_type": "code",
   "execution_count": null,
   "id": "7a322958",
   "metadata": {},
   "outputs": [],
   "source": []
  }
 ],
 "metadata": {
  "kernelspec": {
   "display_name": "Python 3",
   "language": "python",
   "name": "python3"
  },
  "language_info": {
   "codemirror_mode": {
    "name": "ipython",
    "version": 3
   },
   "file_extension": ".py",
   "mimetype": "text/x-python",
   "name": "python",
   "nbconvert_exporter": "python",
   "pygments_lexer": "ipython3",
   "version": "3.8.6"
  }
 },
 "nbformat": 4,
 "nbformat_minor": 5
}