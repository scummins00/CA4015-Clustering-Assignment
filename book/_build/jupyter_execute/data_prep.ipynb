{
 "cells": [
  {
   "cell_type": "markdown",
   "id": "f325b04a",
   "metadata": {},
   "source": [
    "# Data Cleaning\n",
    "In the following Notebook, we will verify the integrity of our data. The data provided by 10 individual studies and centralised by {cite}'Steingroever2015', is inherently clean and ready for use. To ensure this, we will perform the following verification steps:\n",
    "\n",
    "1. Test all datasets for any missing values.\n",
    "2. Verify that deck choice datasets do not host cells exceding a maximum value of 4 and a minimum value of 1.\n",
    "\n",
    "**Note:** For the sake of simplicity, I will not be counting the {cite}'FRIDBERG201028' survey. This survey consists of 15 participants (*2.4% of total*) and allows for 95 trials only making it inherently different to other studies."
   ]
  },
  {
   "cell_type": "code",
   "execution_count": 1,
   "id": "bfca38cf",
   "metadata": {},
   "outputs": [],
   "source": [
    "#importing packages\n",
    "import pandas as pd\n",
    "import numpy as np"
   ]
  },
  {
   "cell_type": "code",
   "execution_count": 2,
   "id": "0cfac362",
   "metadata": {},
   "outputs": [
    {
     "name": "stdout",
     "output_type": "stream",
     "text": [
      "NaN value detected: False\n",
      "NaN value detected: False\n",
      "NaN value detected: False\n",
      "NaN value detected: False\n",
      "NaN value detected: False\n",
      "NaN value detected: False\n",
      "NaN value detected: False\n",
      "NaN value detected: False\n",
      "NaN value detected: False\n",
      "NaN value detected: False\n",
      "NaN value detected: False\n",
      "NaN value detected: False\n"
     ]
    }
   ],
   "source": [
    "#Reading in the data\n",
    "sets = []\n",
    "\n",
    "#choices\n",
    "choice_95=pd.read_csv(\"../data/choice_95.csv\")\n",
    "sets.append(choice_95)\n",
    "choice_100=pd.read_csv(\"../data/choice_100.csv\")\n",
    "sets.append(choice_100)\n",
    "choice_150=pd.read_csv(\"../data/choice_150.csv\")\n",
    "sets.append(choice_150)\n",
    "\n",
    "#Losses\n",
    "loss_95=pd.read_csv(\"../data/lo_95.csv\")\n",
    "sets.append(loss_95)\n",
    "loss_100=pd.read_csv(\"../data/lo_100.csv\")\n",
    "sets.append(loss_100)\n",
    "loss_150=pd.read_csv(\"../data/lo_150.csv\")\n",
    "sets.append(loss_150)\n",
    "#Wins\n",
    "win_95=pd.read_csv(\"../data/wi_95.csv\")\n",
    "sets.append(win_95)\n",
    "win_100=pd.read_csv(\"../data/wi_100.csv\")\n",
    "sets.append(win_100)\n",
    "win_150=pd.read_csv(\"../data/wi_150.csv\")\n",
    "sets.append(win_150)\n",
    "\n",
    "#Index\n",
    "index_95=pd.read_csv(\"../data/index_95.csv\")\n",
    "sets.append(index_95)\n",
    "index_100=pd.read_csv(\"../data/index_100.csv\")\n",
    "sets.append(index_100)\n",
    "index_150=pd.read_csv(\"../data/index_150.csv\")\n",
    "sets.append(index_150)\n",
    "\n",
    "for set in sets:\n",
    "    print(\"NaN value detected: {}\".format(set.isnull().values.any()))"
   ]
  },
  {
   "cell_type": "code",
   "execution_count": 3,
   "id": "92550843",
   "metadata": {},
   "outputs": [
    {
     "data": {
      "text/plain": [
       "min    1.0\n",
       "max    4.0\n",
       "dtype: float64"
      ]
     },
     "execution_count": 3,
     "metadata": {},
     "output_type": "execute_result"
    }
   ],
   "source": [
    "#Let's view the statitics for our choice datasets to verify min & max values\n",
    "(choice_100.T.describe()).iloc[[3,-1]].mean(axis=1)"
   ]
  },
  {
   "cell_type": "markdown",
   "id": "dfe8124d",
   "metadata": {},
   "source": [
    "**Note: This part of data exploration is simple by nature, but generates a large output. For simplicity, I have only included the verification of the small choice_100 dataset.**"
   ]
  },
  {
   "cell_type": "markdown",
   "id": "934e3de2",
   "metadata": {},
   "source": [
    "# Data Preperation\n",
    "In section 4 of this book, we will be performing K-Means clustering based on a participant's net win and loss over the course of the game with results measured in 10% intervals of completion. That is to say, **in the case of a participant with 100 attempts, every 10 attempts will be condensed into one score.** \n",
    "\n",
    "In the case of participants with 150 attempts, every **15 consecutive attempts will be condensed into a singular value**.\n",
    "\n",
    "In the case of participants with 95 attempts, we will measure **their first 8th rounds combined with the mean result of their 9th and 10th round, followed by their 11th to 19th round, followed by round 20th to 27 th combined with the mean of 28th and 29th, followed by their 38th round**, and so on.\n",
    "\n",
    "To do this, our data requires some **Feature Engineering**. We require a new dataset consisting of the scores described above *per participant*. Also, in Section 5, we will be performing the same analysis, but with a **Federated Learning** approach. This means that one large dataset will not suffice. For each of the original datasets provided we must:\n",
    "\n",
    "1. Create and fill our rolling score datasets\n",
    "2. Divide the data out into their individual surveys"
   ]
  },
  {
   "cell_type": "markdown",
   "id": "2dd304b2",
   "metadata": {},
   "source": [
    "## Creating Rolling Dataframes\n",
    "The creation of Dataframes to hold rolling sumations of values across periods of 10 & 15 attempts for the surveys allowing 100 & 150 attempts respectfully is a painless process.\n",
    "\n",
    "However, this is not the case with the survey offering 95 attempts as 95 is an uneven number meaning it does not divide easily into equally sized portions. As a consequence of this, the processing steps for the 95 dataset are much more complex."
   ]
  },
  {
   "cell_type": "code",
   "execution_count": 4,
   "id": "5ffbd502",
   "metadata": {},
   "outputs": [],
   "source": [
    "#We will use pandas.DataFrame.rolling() to calculate our rolling sum\n",
    "\n",
    "rolling_win_100=(win_100.rolling(window=10, axis=1).sum()).iloc[:, range(9,100,10)]\n",
    "rolling_loss_100=(loss_100.rolling(window=10, axis=1).sum()).iloc[:, range(9,100,10)]\n",
    "\n",
    "rolling_win_150=(win_150.rolling(window=10, axis=1).sum()).iloc[:, range(14,150,15)]\n",
    "rolling_loss_150=(loss_150.rolling(window=10, axis=1).sum()).iloc[:, range(14,150,15)]"
   ]
  },
  {
   "cell_type": "code",
   "execution_count": 5,
   "id": "bafec387",
   "metadata": {},
   "outputs": [
    {
     "ename": "NameError",
     "evalue": "name 'inter_95' is not defined",
     "output_type": "error",
     "traceback": [
      "\u001b[1;31m---------------------------------------------------------------------------\u001b[0m",
      "\u001b[1;31mNameError\u001b[0m                                 Traceback (most recent call last)",
      "\u001b[1;32m~\\AppData\\Local\\Temp/ipykernel_8700/4266475338.py\u001b[0m in \u001b[0;36m<module>\u001b[1;34m\u001b[0m\n\u001b[0;32m      6\u001b[0m \u001b[1;33m\u001b[0m\u001b[0m\n\u001b[0;32m      7\u001b[0m \u001b[1;31m#Calculating the average of intermediate columns as new column\u001b[0m\u001b[1;33m\u001b[0m\u001b[1;33m\u001b[0m\u001b[1;33m\u001b[0m\u001b[0m\n\u001b[1;32m----> 8\u001b[1;33m \u001b[0mWins_9_5\u001b[0m\u001b[1;33m=\u001b[0m\u001b[1;33m(\u001b[0m\u001b[0mwins_95_col8\u001b[0m\u001b[1;33m+\u001b[0m\u001b[0minter_95\u001b[0m\u001b[1;33m.\u001b[0m\u001b[0miloc\u001b[0m\u001b[1;33m[\u001b[0m\u001b[1;33m:\u001b[0m\u001b[1;33m,\u001b[0m\u001b[1;36m0\u001b[0m\u001b[1;33m]\u001b[0m\u001b[1;33m)\u001b[0m\u001b[1;33m/\u001b[0m\u001b[1;36m2\u001b[0m\u001b[1;33m\u001b[0m\u001b[1;33m\u001b[0m\u001b[0m\n\u001b[0m\u001b[0;32m      9\u001b[0m \u001b[0mWins_28_5\u001b[0m\u001b[1;33m=\u001b[0m\u001b[1;33m(\u001b[0m\u001b[0minter_95\u001b[0m\u001b[1;33m.\u001b[0m\u001b[0miloc\u001b[0m\u001b[1;33m[\u001b[0m\u001b[1;33m:\u001b[0m\u001b[1;33m,\u001b[0m\u001b[1;36m2\u001b[0m\u001b[1;33m]\u001b[0m\u001b[1;33m+\u001b[0m\u001b[0minter_95\u001b[0m\u001b[1;33m.\u001b[0m\u001b[0miloc\u001b[0m\u001b[1;33m[\u001b[0m\u001b[1;33m:\u001b[0m\u001b[1;33m,\u001b[0m\u001b[1;36m3\u001b[0m\u001b[1;33m]\u001b[0m\u001b[1;33m)\u001b[0m\u001b[1;33m/\u001b[0m\u001b[1;36m2\u001b[0m\u001b[1;33m\u001b[0m\u001b[1;33m\u001b[0m\u001b[0m\n\u001b[0;32m     10\u001b[0m \u001b[0mWins_47_5\u001b[0m\u001b[1;33m=\u001b[0m\u001b[1;33m(\u001b[0m\u001b[0minter_95\u001b[0m\u001b[1;33m.\u001b[0m\u001b[0miloc\u001b[0m\u001b[1;33m[\u001b[0m\u001b[1;33m:\u001b[0m\u001b[1;33m,\u001b[0m\u001b[1;36m5\u001b[0m\u001b[1;33m]\u001b[0m\u001b[1;33m+\u001b[0m\u001b[0minter_95\u001b[0m\u001b[1;33m.\u001b[0m\u001b[0miloc\u001b[0m\u001b[1;33m[\u001b[0m\u001b[1;33m:\u001b[0m\u001b[1;33m,\u001b[0m\u001b[1;36m6\u001b[0m\u001b[1;33m]\u001b[0m\u001b[1;33m)\u001b[0m\u001b[1;33m/\u001b[0m\u001b[1;36m2\u001b[0m\u001b[1;33m\u001b[0m\u001b[1;33m\u001b[0m\u001b[0m\n",
      "\u001b[1;31mNameError\u001b[0m: name 'inter_95' is not defined"
     ]
    }
   ],
   "source": [
    "#The rolling values for the 95 sets are more difficult as 95 is not divisible by 10\n",
    "inter_win_95=(win_95.rolling(window=10, axis=1).sum()).iloc[:,[9,18,27,28,37,46,47,56,65,66,75,84,85, 94]]\n",
    "\n",
    "#Finding the rolling sum for 9th column\n",
    "wins_95_col8=(win_95.rolling(window=9, axis=1).sum()).iloc[:,8]\n",
    "\n",
    "#Calculating the average of intermediate columns as new column\n",
    "Wins_9_5=(wins_95_col8+inter_95.iloc[:,0])/2\n",
    "Wins_28_5=(inter_95.iloc[:,2]+inter_95.iloc[:,3])/2\n",
    "Wins_47_5=(inter_95.iloc[:,5]+inter_95.iloc[:,6])/2\n",
    "Wins_66_5=(inter_95.iloc[:,8]+inter_95.iloc[:,9])/2\n",
    "Wins_85_5=(inter_95.iloc[:,11]+inter_95.iloc[:,12])/2\n",
    "\n",
    "#Add everything together\n",
    "inter_win_95=pd.concat([inter_win_95, Wins_9_5.rename(\"Wins_9_5\"), Wins_28_5.rename(\"Wins_28_5\"), \n",
    "                        Wins_47_5.rename(\"Wins_47_5\"),Wins_66_5.rename(\"Wins_66_5\"),\n",
    "                        Wins_85_5.rename(\"Wins_85_5\")], axis=1)\n",
    "\n",
    "#Reorganise columns\n",
    "cols = inter_win_95.columns.tolist()\n",
    "rolling_win_95 = inter_win_95[[cols[-5], cols[1], cols[-4], cols[4], cols[-3], cols[7], cols[-2], cols[10], cols[-1], cols[13]]]"
   ]
  },
  {
   "cell_type": "code",
   "execution_count": 248,
   "id": "d864a9be",
   "metadata": {},
   "outputs": [],
   "source": [
    "#Now we must do the same for the Losses\n",
    "#The rolling values for the 95 sets are more difficult as 95 is not divisible by 10\n",
    "inter_loss_95=(loss_95.rolling(window=10, axis=1).sum()).iloc[:,[9,18,27,28,37,46,47,56,65,66,75,84,85, 94]]\n",
    "\n",
    "#Finding the rolling sum for 9th column\n",
    "losses_95_col8=(loss_95.rolling(window=9, axis=1).sum()).iloc[:,8]\n",
    "\n",
    "#Calculating the average of intermediate columns as new column\n",
    "Losses_9_5=(losses_95_col8+inter_loss_95.iloc[:,0])/2\n",
    "Losses28_5=(inter_loss_95.iloc[:,2]+inter_loss_95.iloc[:,3])/2\n",
    "Losses47_5=(inter_loss_95.iloc[:,5]+inter_loss_95.iloc[:,6])/2\n",
    "Losses66_5=(inter_loss_95.iloc[:,8]+inter_loss_95.iloc[:,9])/2\n",
    "Losses85_5=(inter_loss_95.iloc[:,11]+inter_loss_95.iloc[:,12])/2\n",
    "\n",
    "#Add everything together\n",
    "inter_loss_95=pd.concat([inter_loss_95, Losses_9_5.rename(\"Losses_9_5\"), Losses28_5.rename(\"Losses28_5\"), \n",
    "                        Losses47_5.rename(\"Losses47_5\"),Losses66_5.rename(\"Losses66_5\"),\n",
    "                        Losses85_5.rename(\"Losses85_5\")], axis=1)\n",
    "\n",
    "#Reorganise columns\n",
    "cols = inter_loss_95.columns.tolist()\n",
    "rolling_loss_95 = inter_loss_95[[cols[-5], cols[1], cols[-4], cols[4], cols[-3], cols[7], cols[-2], cols[10], cols[-1], cols[13]]]"
   ]
  },
  {
   "cell_type": "markdown",
   "id": "57fde0ad",
   "metadata": {},
   "source": [
    "## Seperate Data by Study\n",
    "We will now seperate our data by study. We can achieve this by using our `index` files which allows us to seperate our subjects row-wise. We will do the following:\n",
    "\n",
    "1. Append our index value as a temporary column\n",
    "2. Group our data by this new column\n",
    "3. Select each study as a subset and create a new DataFrame\n",
    "\n",
    "We already know that {cite}'FRIDBERG201028' is the only survey allowing 95 attempts meaning it requires no action at this point."
   ]
  },
  {
   "cell_type": "code",
   "execution_count": 249,
   "id": "9ecf4575",
   "metadata": {},
   "outputs": [],
   "source": [
    "#The 100 datasets first\n",
    "\n",
    "#Wins\n",
    "grouped_wins_100 = rolling_win_100.reset_index(drop=True).join(index_100).groupby(\"Study\")\n",
    "\n",
    "Horstmann_rolling_wins_100=grouped_wins_100.get_group(\"Horstmann\")\n",
    "Kjome_rolling_wins_100=grouped_wins_100.get_group(\"Kjome\")\n",
    "Maia_rolling_wins_100=grouped_wins_100.get_group(\"Maia\")\n",
    "SteingroverInPrep_rolling_wins_100=grouped_wins_100.get_group(\"SteingroverInPrep\")\n",
    "Premkumar_rolling_wins_100=grouped_wins_100.get_group(\"Premkumar\")\n",
    "Wood_rolling_wins_100=grouped_wins_100.get_group(\"Wood\")\n",
    "Worthy_rolling_wins_100=grouped_wins_100.get_group(\"Worthy\")\n",
    "\n",
    "#Losses\n",
    "grouped_losses_100 = rolling_loss_100.reset_index(drop=True).join(index_100).groupby(\"Study\")\n",
    "\n",
    "Horstmann_rolling_losses_100=grouped_losses_100.get_group(\"Horstmann\")\n",
    "Kjome_rolling_losses_100=grouped_losses_100.get_group(\"Kjome\")\n",
    "Maia_rolling_losses_100=grouped_losses_100.get_group(\"Maia\")\n",
    "SteingroverInPrep_rolling_losses_100=grouped_losses_100.get_group(\"SteingroverInPrep\")\n",
    "Premkumar_rolling_losses_100=grouped_losses_100.get_group(\"Premkumar\")\n",
    "Wood_rolling_losses_100=grouped_losses_100.get_group(\"Wood\")\n",
    "Worthy_rolling_losses_100=grouped_losses_100.get_group(\"Worthy\")"
   ]
  },
  {
   "cell_type": "code",
   "execution_count": 250,
   "id": "f170dec5",
   "metadata": {},
   "outputs": [],
   "source": [
    "#The 150 datasets\n",
    "\n",
    "#Wins\n",
    "grouped_wins_150 = rolling_win_150.reset_index(drop=True).join(index_150).groupby(\"Study\")\n",
    "\n",
    "Steingroever2011_rolling_wins_150=grouped_wins_150.get_group(\"Steingroever2011\")\n",
    "Wetzels_rolling_wins_150=grouped_wins_150.get_group(\"Wetzels\")\n",
    "\n",
    "\n",
    "#Losses\n",
    "grouped_losses_150 = rolling_loss_150.reset_index(drop=True).join(index_150).groupby(\"Study\")\n",
    "\n",
    "Steingroever2011_rolling_losses_150=grouped_losses_150.get_group(\"Steingroever2011\")\n",
    "Wetzels_rolling_losses_150=grouped_losses_150.get_group(\"Wetzels\")"
   ]
  }
 ],
 "metadata": {
  "kernelspec": {
   "display_name": "Python 3",
   "language": "python",
   "name": "python3"
  },
  "language_info": {
   "codemirror_mode": {
    "name": "ipython",
    "version": 3
   },
   "file_extension": ".py",
   "mimetype": "text/x-python",
   "name": "python",
   "nbconvert_exporter": "python",
   "pygments_lexer": "ipython3",
   "version": "3.8.6"
  }
 },
 "nbformat": 4,
 "nbformat_minor": 5
}